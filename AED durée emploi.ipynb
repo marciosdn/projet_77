{
 "cells": [
  {
   "cell_type": "markdown",
   "id": "9378a572",
   "metadata": {},
   "source": [
    "# Informations sur la base de données.\n",
    "\n",
    "#### Buts de l'analyse\n",
    "\n",
    "#### Étapes de traitement des données"
   ]
  },
  {
   "cell_type": "markdown",
   "id": "9041bf2f",
   "metadata": {},
   "source": [
    "#### Importation des librairies utilisées."
   ]
  },
  {
   "cell_type": "code",
   "execution_count": 1,
   "id": "95e142e9",
   "metadata": {},
   "outputs": [],
   "source": [
    "import os\n",
    "\n",
    "import sklearn\n",
    "from sklearn.model_selection import train_test_split\n",
    "\n",
    "from sklearn.preprocessing import StandardScaler\n",
    "import numpy as np\n",
    "import pandas as pd\n",
    "import matplotlib.pyplot as plt\n",
    "import seaborn as sns\n",
    "sns.set(color_codes=True)\n",
    "\n",
    "import scipy.stats as stats\n",
    "\n",
    "%matplotlib inline\n",
    "os.environ['KMP_DUPLICATE_LIB_OK']='True'\n",
    "# Pour la reproductibilité des résultats\n",
    "np.random.seed(43)\n",
    "\n",
    "import warnings\n",
    "warnings.simplefilter(action='ignore', category=FutureWarning)\n",
    "warnings.filterwarnings('ignore', '.*do not.*', )\n",
    "warnings.warn('Do not show this message')\n",
    "\n",
    "# some nice colors from http://colorbrewer2.org/\n",
    "COLOR1 = '#7fc97f'\n",
    "COLOR2 = '#beaed4'\n",
    "COLOR3 = '#fdc086'\n",
    "COLOR4 = '#ffff99'\n",
    "COLOR5 = '#386cb0'\n",
    "\n",
    "sns.set(rc={'figure.figsize':(9, 4)})\n",
    "sns.set_theme(context=\"notebook\", style=\"white\", palette=\"Set2\")"
   ]
  },
  {
   "cell_type": "markdown",
   "id": "ca7a8161",
   "metadata": {},
   "source": [
    "## Recommandations \n",
    "\n",
    "### Analyse des forme\n",
    "\n",
    "\n",
    "* **Ligne et colonne: (6498063, 7)**\n",
    "\n",
    "niveau de detail, une ligne par :\n",
    "                  Géographie, \n",
    "                  Classification nationale des professions(CNP4),\n",
    "                  Sexe,\n",
    "                  Durée de l'emploi,\t\n",
    "                  Période de référence, mensuelle\n",
    "\n",
    "* **Type de variables: 10 variables de type numérique et 4 variables qualitative.**\n",
    "\n",
    "    * Géographie : Canada, Province ou territoire\n",
    "    * Ratio du salaire hebdomadaire moyen entre les femmes et les hommes\t\n",
    "    * Ratio du salaire hebdomadaire médian entre les femmes et les hommes\n",
    "    * Ratio du salaire horaire moyen entre les femmes et les hommes\t\n",
    "    * Ratio du salaire horaire médian entre les femmes et les hommes\t\n",
    "    * Salaire hebdomadaire moyen\t\n",
    "    * Salaire hebdomadaire médian\t\n",
    "    * Salaire horaire moyen\t\n",
    "    * Salaire horaire médian\t\n",
    "    * Total des employés, tous les salaires\n",
    "    * Classification nationale des professions(CNP4)\n",
    "    * Sexe\n",
    "    * Groupe d’âge\n",
    "    * Période de référence : annuelle\n",
    "\n",
    "La repartition des individus est egale pour toutes les modalites des variables Sexe, CNP, Groupe d'age\n",
    "\n",
    "* **Type des valeurs manquantes**  \n",
    "\n",
    "    * 25% des valeurs a 0 pour les variables \n",
    "        * Salaire hebdomadaire moyen\t\n",
    "        * Salaire hebdomadaire médian\t\n",
    "        * Salaire horaire moyen\t\n",
    "        * Salaire horaire médian\n",
    "    \n",
    "Il y a 48277(25%) des enregsitrements dont la valeur du salaire hebdomadaire moyen est egal a 0.\n",
    "\n",
    "Repartition: \n",
    "\n",
    "CNP: \n",
    "* 2049 (1.37%), Superviseurs/superviseures et métiers techniques dans les ressources naturelles, l'agriculture et la production connexe, \n",
    "* 2106 (1.25%), Personnel des services de protection public de première ligne\n",
    "* 2049\t(1.22%) Cadres supérieurs/cadres supérieures [00]\t\t\n",
    "\n",
    "Regions:\n",
    "\n",
    "* 4.60% (7743) dans Île-du-Prince-Édouard et Terre-Neuve-et-Labrador\t\n",
    "* 4.42% (5986)\tNouveau-Brunswick et Nouvelle-Écosse\n",
    "* 1.56% (2628) Québec\t   \n",
    "    \n",
    "* **Valeurs extremes **\n",
    "\n",
    "On va supposer, pour l'exemple, que la base de données contient 0,5% de valeurs aberrantes de toutes sortes. Ce n'est pas exagéré. Cela représente $0,005*168300 \\approx 841$ valeurs.\n",
    "\n",
    "On utilise la méthode de la [forêt d'isolation](https://scikit-learn.org/stable/modules/generated/sklearn.ensemble.IsolationForest.html) pour détecter et éliminer un maximum de 0,5% des valeurs possiblement aberrantes.  \n",
    "    \n",
    "### Analyse de structure\n",
    "\n",
    "* Calculer difference de Salaire horaire moyen entre  Salaire horaire moyen (homme)-  Salaire horaire moyen(femme)\n",
    "* Conserver seulement les variables :  \n",
    "    * Géographie : Canada, Province ou territoire,\n",
    "    * Salaire horaire moyen\t\n",
    "    * Classification nationale des professions(CNP4)\n",
    "    * Sexe\n",
    "    * Groupe d’âge\n",
    "    * Période de référence : annuelle\n",
    "\n",
    "\n",
    "### Nettoyage des donnees: Recommandations\n",
    "\n",
    "\n",
    "* Filtrer la modalite \"Les deux sexes\" de la variable **Sexe**\n",
    "* Filtrer la modalite \"15 ans et plus\" de la variable **Groupe d'âge**\n",
    "* Filtrer la modalite \"'Canada'\" de la variable **Region**\n"
   ]
  },
  {
   "cell_type": "markdown",
   "id": "2ebb6f94",
   "metadata": {},
   "source": [
    "# Partie I: Prétraitement des données.\n",
    "\n",
    "## Lecture des bases de données en format CSV.\n",
    "\n",
    "Les données sont écrites dans un DataFrame de la librairie Pandas."
   ]
  },
  {
   "cell_type": "code",
   "execution_count": 2,
   "id": "db4e15f3",
   "metadata": {},
   "outputs": [],
   "source": [
    "def load_db():\n",
    "    duree_emploi_CNP=pd.read_csv(\"duree_emploi_CNP\",sep=\",\")\n",
    "    return duree_emploi_CNP#,postes_vacants_CNP,caractéristiques_population_active,heures_habituellement_travaille,heures_effectivement_travaille,personnes_avec_plus_un_emploi,raison_quitter_emploi,absence_travail_temps_plein"
   ]
  },
  {
   "cell_type": "code",
   "execution_count": 3,
   "id": "a9395687",
   "metadata": {},
   "outputs": [],
   "source": [
    "duree_emploi_CNP=load_db()"
   ]
  },
  {
   "cell_type": "markdown",
   "id": "788d0a01",
   "metadata": {},
   "source": [
    "## Explorer les données"
   ]
  },
  {
   "cell_type": "code",
   "execution_count": 4,
   "id": "0c778a54",
   "metadata": {},
   "outputs": [
    {
     "data": {
      "text/html": [
       "<div>\n",
       "<style scoped>\n",
       "    .dataframe tbody tr th:only-of-type {\n",
       "        vertical-align: middle;\n",
       "    }\n",
       "\n",
       "    .dataframe tbody tr th {\n",
       "        vertical-align: top;\n",
       "    }\n",
       "\n",
       "    .dataframe thead th {\n",
       "        text-align: right;\n",
       "    }\n",
       "</style>\n",
       "<table border=\"1\" class=\"dataframe\">\n",
       "  <thead>\n",
       "    <tr style=\"text-align: right;\">\n",
       "      <th></th>\n",
       "      <th>Année/Mois</th>\n",
       "      <th>Régions</th>\n",
       "      <th>CNP</th>\n",
       "      <th>Sexe</th>\n",
       "      <th>Durée de l'emploi</th>\n",
       "      <th>Mois</th>\n",
       "      <th>Personnes</th>\n",
       "    </tr>\n",
       "  </thead>\n",
       "  <tbody>\n",
       "    <tr>\n",
       "      <th>0</th>\n",
       "      <td>1987-01</td>\n",
       "      <td>Alberta</td>\n",
       "      <td>Affaires, finance et administration [1]</td>\n",
       "      <td>Femmes</td>\n",
       "      <td>1 à 3 mois</td>\n",
       "      <td>NaN</td>\n",
       "      <td>14.1</td>\n",
       "    </tr>\n",
       "    <tr>\n",
       "      <th>1</th>\n",
       "      <td>1987-01</td>\n",
       "      <td>Alberta</td>\n",
       "      <td>Affaires, finance et administration [1]</td>\n",
       "      <td>Femmes</td>\n",
       "      <td>121 à 240 mois</td>\n",
       "      <td>NaN</td>\n",
       "      <td>19.7</td>\n",
       "    </tr>\n",
       "    <tr>\n",
       "      <th>2</th>\n",
       "      <td>1987-01</td>\n",
       "      <td>Alberta</td>\n",
       "      <td>Affaires, finance et administration [1]</td>\n",
       "      <td>Femmes</td>\n",
       "      <td>13 à 60 mois</td>\n",
       "      <td>NaN</td>\n",
       "      <td>53.4</td>\n",
       "    </tr>\n",
       "    <tr>\n",
       "      <th>3</th>\n",
       "      <td>1987-01</td>\n",
       "      <td>Alberta</td>\n",
       "      <td>Affaires, finance et administration [1]</td>\n",
       "      <td>Femmes</td>\n",
       "      <td>241 mois ou plus</td>\n",
       "      <td>NaN</td>\n",
       "      <td>7.1</td>\n",
       "    </tr>\n",
       "    <tr>\n",
       "      <th>4</th>\n",
       "      <td>1987-01</td>\n",
       "      <td>Alberta</td>\n",
       "      <td>Affaires, finance et administration [1]</td>\n",
       "      <td>Femmes</td>\n",
       "      <td>4 à 6 mois</td>\n",
       "      <td>NaN</td>\n",
       "      <td>12.4</td>\n",
       "    </tr>\n",
       "  </tbody>\n",
       "</table>\n",
       "</div>"
      ],
      "text/plain": [
       "  Année/Mois  Régions                                      CNP    Sexe  \\\n",
       "0    1987-01  Alberta  Affaires, finance et administration [1]  Femmes   \n",
       "1    1987-01  Alberta  Affaires, finance et administration [1]  Femmes   \n",
       "2    1987-01  Alberta  Affaires, finance et administration [1]  Femmes   \n",
       "3    1987-01  Alberta  Affaires, finance et administration [1]  Femmes   \n",
       "4    1987-01  Alberta  Affaires, finance et administration [1]  Femmes   \n",
       "\n",
       "  Durée de l'emploi  Mois  Personnes  \n",
       "0        1 à 3 mois   NaN       14.1  \n",
       "1    121 à 240 mois   NaN       19.7  \n",
       "2      13 à 60 mois   NaN       53.4  \n",
       "3  241 mois ou plus   NaN        7.1  \n",
       "4        4 à 6 mois   NaN       12.4  "
      ]
     },
     "execution_count": 4,
     "metadata": {},
     "output_type": "execute_result"
    }
   ],
   "source": [
    "duree_emploi_CNP.head()"
   ]
  },
  {
   "cell_type": "code",
   "execution_count": 5,
   "id": "e21b4e5d",
   "metadata": {},
   "outputs": [
    {
     "data": {
      "text/html": [
       "<div>\n",
       "<style scoped>\n",
       "    .dataframe tbody tr th:only-of-type {\n",
       "        vertical-align: middle;\n",
       "    }\n",
       "\n",
       "    .dataframe tbody tr th {\n",
       "        vertical-align: top;\n",
       "    }\n",
       "\n",
       "    .dataframe thead th {\n",
       "        text-align: right;\n",
       "    }\n",
       "</style>\n",
       "<table border=\"1\" class=\"dataframe\">\n",
       "  <thead>\n",
       "    <tr style=\"text-align: right;\">\n",
       "      <th></th>\n",
       "      <th>Année/Mois</th>\n",
       "      <th>Régions</th>\n",
       "      <th>CNP</th>\n",
       "      <th>Sexe</th>\n",
       "      <th>Durée de l'emploi</th>\n",
       "      <th>Mois</th>\n",
       "      <th>Personnes</th>\n",
       "    </tr>\n",
       "  </thead>\n",
       "  <tbody>\n",
       "    <tr>\n",
       "      <th>6498058</th>\n",
       "      <td>2022-09</td>\n",
       "      <td>Île-du-Prince-Édouard</td>\n",
       "      <td>Vente et services [6]</td>\n",
       "      <td>Les deux sexes</td>\n",
       "      <td>4 à 6 mois</td>\n",
       "      <td>NaN</td>\n",
       "      <td>2.9</td>\n",
       "    </tr>\n",
       "    <tr>\n",
       "      <th>6498059</th>\n",
       "      <td>2022-09</td>\n",
       "      <td>Île-du-Prince-Édouard</td>\n",
       "      <td>Vente et services [6]</td>\n",
       "      <td>Les deux sexes</td>\n",
       "      <td>61 à 120 mois</td>\n",
       "      <td>NaN</td>\n",
       "      <td>1.8</td>\n",
       "    </tr>\n",
       "    <tr>\n",
       "      <th>6498060</th>\n",
       "      <td>2022-09</td>\n",
       "      <td>Île-du-Prince-Édouard</td>\n",
       "      <td>Vente et services [6]</td>\n",
       "      <td>Les deux sexes</td>\n",
       "      <td>7 à 12 mois</td>\n",
       "      <td>NaN</td>\n",
       "      <td>1.6</td>\n",
       "    </tr>\n",
       "    <tr>\n",
       "      <th>6498061</th>\n",
       "      <td>2022-09</td>\n",
       "      <td>Île-du-Prince-Édouard</td>\n",
       "      <td>Vente et services [6]</td>\n",
       "      <td>Les deux sexes</td>\n",
       "      <td>Durée moyenne</td>\n",
       "      <td>83.8</td>\n",
       "      <td>NaN</td>\n",
       "    </tr>\n",
       "    <tr>\n",
       "      <th>6498062</th>\n",
       "      <td>2022-09</td>\n",
       "      <td>Île-du-Prince-Édouard</td>\n",
       "      <td>Vente et services [6]</td>\n",
       "      <td>Les deux sexes</td>\n",
       "      <td>Emploi total, tous les mois</td>\n",
       "      <td>NaN</td>\n",
       "      <td>16.5</td>\n",
       "    </tr>\n",
       "  </tbody>\n",
       "</table>\n",
       "</div>"
      ],
      "text/plain": [
       "        Année/Mois                Régions                    CNP  \\\n",
       "6498058    2022-09  Île-du-Prince-Édouard  Vente et services [6]   \n",
       "6498059    2022-09  Île-du-Prince-Édouard  Vente et services [6]   \n",
       "6498060    2022-09  Île-du-Prince-Édouard  Vente et services [6]   \n",
       "6498061    2022-09  Île-du-Prince-Édouard  Vente et services [6]   \n",
       "6498062    2022-09  Île-du-Prince-Édouard  Vente et services [6]   \n",
       "\n",
       "                   Sexe            Durée de l'emploi  Mois  Personnes  \n",
       "6498058  Les deux sexes                   4 à 6 mois   NaN        2.9  \n",
       "6498059  Les deux sexes                61 à 120 mois   NaN        1.8  \n",
       "6498060  Les deux sexes                  7 à 12 mois   NaN        1.6  \n",
       "6498061  Les deux sexes                Durée moyenne  83.8        NaN  \n",
       "6498062  Les deux sexes  Emploi total, tous les mois   NaN       16.5  "
      ]
     },
     "execution_count": 5,
     "metadata": {},
     "output_type": "execute_result"
    }
   ],
   "source": [
    "duree_emploi_CNP.tail()"
   ]
  },
  {
   "cell_type": "markdown",
   "id": "c0941eb5",
   "metadata": {},
   "source": [
    "### Dimensions du dataset"
   ]
  },
  {
   "cell_type": "code",
   "execution_count": 6,
   "id": "e5487147",
   "metadata": {},
   "outputs": [
    {
     "name": "stdout",
     "output_type": "stream",
     "text": [
      "Les dimensions du jeux des donnees:  (6498063, 7)\n",
      "\n"
     ]
    }
   ],
   "source": [
    "print(\"Les dimensions du jeux des donnees: \", duree_emploi_CNP.shape)\n",
    "print() "
   ]
  },
  {
   "cell_type": "code",
   "execution_count": 8,
   "id": "66af9abb",
   "metadata": {},
   "outputs": [
    {
     "name": "stdout",
     "output_type": "stream",
     "text": [
      "Nombre d’éléments: 45486441\n",
      "\n"
     ]
    }
   ],
   "source": [
    "# Size of our data set\n",
    "## le nombre de lignes multiplié par le nombre de colonnes si DataFrame.\n",
    "print(\"Nombre d’éléments:\", duree_emploi_CNP.size)\n",
    "print()"
   ]
  },
  {
   "cell_type": "markdown",
   "id": "3d841b22",
   "metadata": {},
   "source": [
    "Le nombre d'individus est égale à 6498063 et le nombre de descripteurs est égale à 7"
   ]
  },
  {
   "cell_type": "markdown",
   "id": "67f90838",
   "metadata": {},
   "source": [
    "### Type des donnees"
   ]
  },
  {
   "cell_type": "code",
   "execution_count": 9,
   "id": "6974a10d",
   "metadata": {},
   "outputs": [
    {
     "data": {
      "text/plain": [
       "Année/Mois            object\n",
       "Régions               object\n",
       "CNP                   object\n",
       "Sexe                  object\n",
       "Durée de l'emploi     object\n",
       "Mois                 float64\n",
       "Personnes            float64\n",
       "dtype: object"
      ]
     },
     "execution_count": 9,
     "metadata": {},
     "output_type": "execute_result"
    }
   ],
   "source": [
    "duree_emploi_CNP.dtypes"
   ]
  },
  {
   "cell_type": "code",
   "execution_count": 10,
   "id": "ec9d8287",
   "metadata": {},
   "outputs": [
    {
     "data": {
      "text/plain": [
       "object     5\n",
       "float64    2\n",
       "dtype: int64"
      ]
     },
     "execution_count": 10,
     "metadata": {},
     "output_type": "execute_result"
    }
   ],
   "source": [
    "duree_emploi_CNP.dtypes.value_counts()"
   ]
  },
  {
   "cell_type": "markdown",
   "id": "c62b6977",
   "metadata": {},
   "source": [
    "Le jeu des données a 2 variables de type numérique et 5 variables qualitative."
   ]
  },
  {
   "cell_type": "code",
   "execution_count": 11,
   "id": "a4ab7d2b",
   "metadata": {},
   "outputs": [
    {
     "data": {
      "text/html": [
       "<div>\n",
       "<style scoped>\n",
       "    .dataframe tbody tr th:only-of-type {\n",
       "        vertical-align: middle;\n",
       "    }\n",
       "\n",
       "    .dataframe tbody tr th {\n",
       "        vertical-align: top;\n",
       "    }\n",
       "\n",
       "    .dataframe thead th {\n",
       "        text-align: right;\n",
       "    }\n",
       "</style>\n",
       "<table border=\"1\" class=\"dataframe\">\n",
       "  <thead>\n",
       "    <tr style=\"text-align: right;\">\n",
       "      <th></th>\n",
       "      <th>Mois</th>\n",
       "      <th>Personnes</th>\n",
       "    </tr>\n",
       "  </thead>\n",
       "  <tbody>\n",
       "    <tr>\n",
       "      <th>count</th>\n",
       "      <td>722007.000000</td>\n",
       "      <td>5.776056e+06</td>\n",
       "    </tr>\n",
       "    <tr>\n",
       "      <th>mean</th>\n",
       "      <td>95.811712</td>\n",
       "      <td>2.788090e+01</td>\n",
       "    </tr>\n",
       "    <tr>\n",
       "      <th>std</th>\n",
       "      <td>42.514423</td>\n",
       "      <td>2.198379e+02</td>\n",
       "    </tr>\n",
       "    <tr>\n",
       "      <th>min</th>\n",
       "      <td>0.000000</td>\n",
       "      <td>0.000000e+00</td>\n",
       "    </tr>\n",
       "    <tr>\n",
       "      <th>25%</th>\n",
       "      <td>70.100000</td>\n",
       "      <td>0.000000e+00</td>\n",
       "    </tr>\n",
       "    <tr>\n",
       "      <th>50%</th>\n",
       "      <td>95.500000</td>\n",
       "      <td>2.000000e+00</td>\n",
       "    </tr>\n",
       "    <tr>\n",
       "      <th>75%</th>\n",
       "      <td>119.500000</td>\n",
       "      <td>1.020000e+01</td>\n",
       "    </tr>\n",
       "    <tr>\n",
       "      <th>max</th>\n",
       "      <td>474.000000</td>\n",
       "      <td>1.996600e+04</td>\n",
       "    </tr>\n",
       "  </tbody>\n",
       "</table>\n",
       "</div>"
      ],
      "text/plain": [
       "                Mois     Personnes\n",
       "count  722007.000000  5.776056e+06\n",
       "mean       95.811712  2.788090e+01\n",
       "std        42.514423  2.198379e+02\n",
       "min         0.000000  0.000000e+00\n",
       "25%        70.100000  0.000000e+00\n",
       "50%        95.500000  2.000000e+00\n",
       "75%       119.500000  1.020000e+01\n",
       "max       474.000000  1.996600e+04"
      ]
     },
     "execution_count": 11,
     "metadata": {},
     "output_type": "execute_result"
    }
   ],
   "source": [
    "duree_emploi_CNP.describe()"
   ]
  },
  {
   "cell_type": "code",
   "execution_count": 13,
   "id": "9380200c",
   "metadata": {},
   "outputs": [
    {
     "name": "stdout",
     "output_type": "stream",
     "text": [
      "<class 'pandas.core.frame.DataFrame'>\n",
      "RangeIndex: 6498063 entries, 0 to 6498062\n",
      "Data columns (total 7 columns):\n",
      " #   Column             Dtype  \n",
      "---  ------             -----  \n",
      " 0   Année/Mois         object \n",
      " 1   Régions            object \n",
      " 2   CNP                object \n",
      " 3   Sexe               object \n",
      " 4   Durée de l'emploi  object \n",
      " 5   Mois               float64\n",
      " 6   Personnes          float64\n",
      "dtypes: float64(2), object(5)\n",
      "memory usage: 347.0+ MB\n"
     ]
    }
   ],
   "source": [
    "duree_emploi_CNP.info()"
   ]
  },
  {
   "cell_type": "code",
   "execution_count": 15,
   "id": "9b62a249",
   "metadata": {},
   "outputs": [
    {
     "data": {
      "text/html": [
       "<div>\n",
       "<style scoped>\n",
       "    .dataframe tbody tr th:only-of-type {\n",
       "        vertical-align: middle;\n",
       "    }\n",
       "\n",
       "    .dataframe tbody tr th {\n",
       "        vertical-align: top;\n",
       "    }\n",
       "\n",
       "    .dataframe thead th {\n",
       "        text-align: right;\n",
       "    }\n",
       "</style>\n",
       "<table border=\"1\" class=\"dataframe\">\n",
       "  <thead>\n",
       "    <tr style=\"text-align: right;\">\n",
       "      <th></th>\n",
       "      <th>Année/Mois</th>\n",
       "      <th>Régions</th>\n",
       "      <th>CNP</th>\n",
       "      <th>Sexe</th>\n",
       "      <th>Durée de l'emploi</th>\n",
       "    </tr>\n",
       "  </thead>\n",
       "  <tbody>\n",
       "    <tr>\n",
       "      <th>count</th>\n",
       "      <td>6498063</td>\n",
       "      <td>6498063</td>\n",
       "      <td>6498063</td>\n",
       "      <td>6498063</td>\n",
       "      <td>6498063</td>\n",
       "    </tr>\n",
       "    <tr>\n",
       "      <th>unique</th>\n",
       "      <td>429</td>\n",
       "      <td>11</td>\n",
       "      <td>51</td>\n",
       "      <td>3</td>\n",
       "      <td>9</td>\n",
       "    </tr>\n",
       "    <tr>\n",
       "      <th>top</th>\n",
       "      <td>1987-01</td>\n",
       "      <td>Alberta</td>\n",
       "      <td>Affaires, finance et administration [1]</td>\n",
       "      <td>Femmes</td>\n",
       "      <td>1 à 3 mois</td>\n",
       "    </tr>\n",
       "    <tr>\n",
       "      <th>freq</th>\n",
       "      <td>15147</td>\n",
       "      <td>590733</td>\n",
       "      <td>127413</td>\n",
       "      <td>2166021</td>\n",
       "      <td>722007</td>\n",
       "    </tr>\n",
       "  </tbody>\n",
       "</table>\n",
       "</div>"
      ],
      "text/plain": [
       "       Année/Mois  Régions                                      CNP     Sexe  \\\n",
       "count     6498063  6498063                                  6498063  6498063   \n",
       "unique        429       11                                       51        3   \n",
       "top       1987-01  Alberta  Affaires, finance et administration [1]   Femmes   \n",
       "freq        15147   590733                                   127413  2166021   \n",
       "\n",
       "       Durée de l'emploi  \n",
       "count            6498063  \n",
       "unique                 9  \n",
       "top           1 à 3 mois  \n",
       "freq              722007  "
      ]
     },
     "execution_count": 15,
     "metadata": {},
     "output_type": "execute_result"
    }
   ],
   "source": [
    "duree_emploi_CNP.describe(include=[object])"
   ]
  },
  {
   "cell_type": "markdown",
   "id": "d85b7e99",
   "metadata": {},
   "source": [
    "* La variable Regions contient 11 modalites, la plus frequente est Alberta\n",
    "* La variable CNP contient 51 modalites, la plus frequente est Affaires, finance et administration [1]\n",
    "* La variable Sexe contienttient 3 modaliteses, la plus frequente est Femme\n",
    "* La variable Durée de l'emploi contient 9 modalites, la plus frequente est 1 a 3 mois"
   ]
  },
  {
   "cell_type": "code",
   "execution_count": 23,
   "id": "3ba6ba2d",
   "metadata": {},
   "outputs": [
    {
     "data": {
      "text/plain": [
       "array(['1 à 3 mois', '121 à 240 mois', '13 à 60 mois', '241 mois ou plus',\n",
       "       '4 à 6 mois', '61 à 120 mois', '7 à 12 mois', 'Durée moyenne',\n",
       "       'Emploi total, tous les mois'], dtype=object)"
      ]
     },
     "execution_count": 23,
     "metadata": {},
     "output_type": "execute_result"
    }
   ],
   "source": [
    "duree_emploi_CNP[\"Durée de l'emploi\"].unique()"
   ]
  },
  {
   "cell_type": "code",
   "execution_count": 24,
   "id": "467d9b7c",
   "metadata": {},
   "outputs": [
    {
     "data": {
      "text/plain": [
       "array(['Femmes', 'Hommes', 'Les deux sexes'], dtype=object)"
      ]
     },
     "execution_count": 24,
     "metadata": {},
     "output_type": "execute_result"
    }
   ],
   "source": [
    "duree_emploi_CNP[\"Sexe\"].unique()"
   ]
  },
  {
   "cell_type": "markdown",
   "id": "c0c84396",
   "metadata": {},
   "source": [
    "### Affichage du nombre de valeurs manquantes Nans dans le DataFrame."
   ]
  },
  {
   "cell_type": "code",
   "execution_count": 17,
   "id": "becf99d0",
   "metadata": {},
   "outputs": [
    {
     "data": {
      "text/plain": [
       "Année/Mois                 0\n",
       "Régions                    0\n",
       "CNP                        0\n",
       "Sexe                       0\n",
       "Durée de l'emploi          0\n",
       "Mois                 5776056\n",
       "Personnes             722007\n",
       "dtype: int64"
      ]
     },
     "execution_count": 17,
     "metadata": {},
     "output_type": "execute_result"
    }
   ],
   "source": [
    "duree_emploi_CNP.isna().sum()"
   ]
  },
  {
   "cell_type": "code",
   "execution_count": 20,
   "id": "7076aba7",
   "metadata": {},
   "outputs": [
    {
     "data": {
      "text/html": [
       "<div>\n",
       "<style scoped>\n",
       "    .dataframe tbody tr th:only-of-type {\n",
       "        vertical-align: middle;\n",
       "    }\n",
       "\n",
       "    .dataframe tbody tr th {\n",
       "        vertical-align: top;\n",
       "    }\n",
       "\n",
       "    .dataframe thead th {\n",
       "        text-align: right;\n",
       "    }\n",
       "</style>\n",
       "<table border=\"1\" class=\"dataframe\">\n",
       "  <thead>\n",
       "    <tr style=\"text-align: right;\">\n",
       "      <th></th>\n",
       "      <th>Année/Mois</th>\n",
       "      <th>Régions</th>\n",
       "      <th>CNP</th>\n",
       "      <th>Sexe</th>\n",
       "      <th>Durée de l'emploi</th>\n",
       "      <th>Mois</th>\n",
       "      <th>Personnes</th>\n",
       "    </tr>\n",
       "  </thead>\n",
       "  <tbody>\n",
       "    <tr>\n",
       "      <th>7</th>\n",
       "      <td>1987-01</td>\n",
       "      <td>Alberta</td>\n",
       "      <td>Affaires, finance et administration [1]</td>\n",
       "      <td>Femmes</td>\n",
       "      <td>Durée moyenne</td>\n",
       "      <td>66.4</td>\n",
       "      <td>NaN</td>\n",
       "    </tr>\n",
       "    <tr>\n",
       "      <th>16</th>\n",
       "      <td>1987-01</td>\n",
       "      <td>Alberta</td>\n",
       "      <td>Affaires, finance et administration [1]</td>\n",
       "      <td>Hommes</td>\n",
       "      <td>Durée moyenne</td>\n",
       "      <td>88.7</td>\n",
       "      <td>NaN</td>\n",
       "    </tr>\n",
       "    <tr>\n",
       "      <th>25</th>\n",
       "      <td>1987-01</td>\n",
       "      <td>Alberta</td>\n",
       "      <td>Affaires, finance et administration [1]</td>\n",
       "      <td>Les deux sexes</td>\n",
       "      <td>Durée moyenne</td>\n",
       "      <td>72.3</td>\n",
       "      <td>NaN</td>\n",
       "    </tr>\n",
       "    <tr>\n",
       "      <th>34</th>\n",
       "      <td>1987-01</td>\n",
       "      <td>Alberta</td>\n",
       "      <td>Arts, culture, sports et loisirs [5]</td>\n",
       "      <td>Femmes</td>\n",
       "      <td>Durée moyenne</td>\n",
       "      <td>42.6</td>\n",
       "      <td>NaN</td>\n",
       "    </tr>\n",
       "    <tr>\n",
       "      <th>43</th>\n",
       "      <td>1987-01</td>\n",
       "      <td>Alberta</td>\n",
       "      <td>Arts, culture, sports et loisirs [5]</td>\n",
       "      <td>Hommes</td>\n",
       "      <td>Durée moyenne</td>\n",
       "      <td>86.8</td>\n",
       "      <td>NaN</td>\n",
       "    </tr>\n",
       "    <tr>\n",
       "      <th>...</th>\n",
       "      <td>...</td>\n",
       "      <td>...</td>\n",
       "      <td>...</td>\n",
       "      <td>...</td>\n",
       "      <td>...</td>\n",
       "      <td>...</td>\n",
       "      <td>...</td>\n",
       "    </tr>\n",
       "    <tr>\n",
       "      <th>6498025</th>\n",
       "      <td>2022-09</td>\n",
       "      <td>Île-du-Prince-Édouard</td>\n",
       "      <td>Superviseurs/superviseures et métiers techniqu...</td>\n",
       "      <td>Hommes</td>\n",
       "      <td>Durée moyenne</td>\n",
       "      <td>170.1</td>\n",
       "      <td>NaN</td>\n",
       "    </tr>\n",
       "    <tr>\n",
       "      <th>6498034</th>\n",
       "      <td>2022-09</td>\n",
       "      <td>Île-du-Prince-Édouard</td>\n",
       "      <td>Superviseurs/superviseures et métiers techniqu...</td>\n",
       "      <td>Les deux sexes</td>\n",
       "      <td>Durée moyenne</td>\n",
       "      <td>182.0</td>\n",
       "      <td>NaN</td>\n",
       "    </tr>\n",
       "    <tr>\n",
       "      <th>6498043</th>\n",
       "      <td>2022-09</td>\n",
       "      <td>Île-du-Prince-Édouard</td>\n",
       "      <td>Vente et services [6]</td>\n",
       "      <td>Femmes</td>\n",
       "      <td>Durée moyenne</td>\n",
       "      <td>77.6</td>\n",
       "      <td>NaN</td>\n",
       "    </tr>\n",
       "    <tr>\n",
       "      <th>6498052</th>\n",
       "      <td>2022-09</td>\n",
       "      <td>Île-du-Prince-Édouard</td>\n",
       "      <td>Vente et services [6]</td>\n",
       "      <td>Hommes</td>\n",
       "      <td>Durée moyenne</td>\n",
       "      <td>92.7</td>\n",
       "      <td>NaN</td>\n",
       "    </tr>\n",
       "    <tr>\n",
       "      <th>6498061</th>\n",
       "      <td>2022-09</td>\n",
       "      <td>Île-du-Prince-Édouard</td>\n",
       "      <td>Vente et services [6]</td>\n",
       "      <td>Les deux sexes</td>\n",
       "      <td>Durée moyenne</td>\n",
       "      <td>83.8</td>\n",
       "      <td>NaN</td>\n",
       "    </tr>\n",
       "  </tbody>\n",
       "</table>\n",
       "<p>722007 rows × 7 columns</p>\n",
       "</div>"
      ],
      "text/plain": [
       "        Année/Mois                Régions  \\\n",
       "7          1987-01                Alberta   \n",
       "16         1987-01                Alberta   \n",
       "25         1987-01                Alberta   \n",
       "34         1987-01                Alberta   \n",
       "43         1987-01                Alberta   \n",
       "...            ...                    ...   \n",
       "6498025    2022-09  Île-du-Prince-Édouard   \n",
       "6498034    2022-09  Île-du-Prince-Édouard   \n",
       "6498043    2022-09  Île-du-Prince-Édouard   \n",
       "6498052    2022-09  Île-du-Prince-Édouard   \n",
       "6498061    2022-09  Île-du-Prince-Édouard   \n",
       "\n",
       "                                                       CNP            Sexe  \\\n",
       "7                  Affaires, finance et administration [1]          Femmes   \n",
       "16                 Affaires, finance et administration [1]          Hommes   \n",
       "25                 Affaires, finance et administration [1]  Les deux sexes   \n",
       "34                    Arts, culture, sports et loisirs [5]          Femmes   \n",
       "43                    Arts, culture, sports et loisirs [5]          Hommes   \n",
       "...                                                    ...             ...   \n",
       "6498025  Superviseurs/superviseures et métiers techniqu...          Hommes   \n",
       "6498034  Superviseurs/superviseures et métiers techniqu...  Les deux sexes   \n",
       "6498043                              Vente et services [6]          Femmes   \n",
       "6498052                              Vente et services [6]          Hommes   \n",
       "6498061                              Vente et services [6]  Les deux sexes   \n",
       "\n",
       "        Durée de l'emploi   Mois  Personnes  \n",
       "7           Durée moyenne   66.4        NaN  \n",
       "16          Durée moyenne   88.7        NaN  \n",
       "25          Durée moyenne   72.3        NaN  \n",
       "34          Durée moyenne   42.6        NaN  \n",
       "43          Durée moyenne   86.8        NaN  \n",
       "...                   ...    ...        ...  \n",
       "6498025     Durée moyenne  170.1        NaN  \n",
       "6498034     Durée moyenne  182.0        NaN  \n",
       "6498043     Durée moyenne   77.6        NaN  \n",
       "6498052     Durée moyenne   92.7        NaN  \n",
       "6498061     Durée moyenne   83.8        NaN  \n",
       "\n",
       "[722007 rows x 7 columns]"
      ]
     },
     "execution_count": 20,
     "metadata": {},
     "output_type": "execute_result"
    }
   ],
   "source": [
    "duree_emploi_CNP[duree_emploi_CNP.Mois.notnull()]"
   ]
  },
  {
   "cell_type": "code",
   "execution_count": 21,
   "id": "8337ff3a",
   "metadata": {},
   "outputs": [
    {
     "data": {
      "text/plain": [
       "Durée moyenne    722007\n",
       "Name: Durée de l'emploi, dtype: int64"
      ]
     },
     "execution_count": 21,
     "metadata": {},
     "output_type": "execute_result"
    }
   ],
   "source": [
    "duree_emploi_CNP[duree_emploi_CNP.Mois.notnull()][\"Durée de l'emploi\"].value_counts()"
   ]
  },
  {
   "cell_type": "code",
   "execution_count": 25,
   "id": "f0f23bbc",
   "metadata": {},
   "outputs": [
    {
     "data": {
      "text/plain": [
       "1 à 3 mois                     722007\n",
       "121 à 240 mois                 722007\n",
       "13 à 60 mois                   722007\n",
       "241 mois ou plus               722007\n",
       "4 à 6 mois                     722007\n",
       "61 à 120 mois                  722007\n",
       "7 à 12 mois                    722007\n",
       "Emploi total, tous les mois    722007\n",
       "Name: Durée de l'emploi, dtype: int64"
      ]
     },
     "execution_count": 25,
     "metadata": {},
     "output_type": "execute_result"
    }
   ],
   "source": [
    "duree_emploi_CNP[duree_emploi_CNP.Mois.isnull()][\"Durée de l'emploi\"].value_counts()"
   ]
  },
  {
   "cell_type": "code",
   "execution_count": null,
   "id": "29656059",
   "metadata": {},
   "outputs": [],
   "source": []
  }
 ],
 "metadata": {
  "kernelspec": {
   "display_name": "Python 3 (ipykernel)",
   "language": "python",
   "name": "python3"
  },
  "language_info": {
   "codemirror_mode": {
    "name": "ipython",
    "version": 3
   },
   "file_extension": ".py",
   "mimetype": "text/x-python",
   "name": "python",
   "nbconvert_exporter": "python",
   "pygments_lexer": "ipython3",
   "version": "3.8.11"
  },
  "toc": {
   "base_numbering": 1,
   "nav_menu": {},
   "number_sections": true,
   "sideBar": true,
   "skip_h1_title": false,
   "title_cell": "Table of Contents",
   "title_sidebar": "Contents",
   "toc_cell": false,
   "toc_position": {},
   "toc_section_display": true,
   "toc_window_display": true
  }
 },
 "nbformat": 4,
 "nbformat_minor": 5
}
